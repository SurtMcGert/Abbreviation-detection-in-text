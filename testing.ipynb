{
 "cells": [
  {
   "cell_type": "code",
   "execution_count": 9,
   "metadata": {},
   "outputs": [],
   "source": [
    "import transformers\n",
    "from transformers.pipelines import PIPELINE_REGISTRY\n",
    "from pipeline import NER_Pipeline\n",
    "from selenium import webdriver\n",
    "from selenium.webdriver.support.wait import WebDriverWait\n",
    "from selenium.webdriver.support import expected_conditions as EC\n",
    "from selenium.webdriver.common.by import By\n",
    "from selenium.webdriver.common.keys import Keys\n",
    "from faker import Faker\n",
    "import time\n",
    "\n",
    "from server import get_acronym_description, request_results, get_acronyms_and_long_forms"
   ]
  },
  {
   "cell_type": "code",
   "execution_count": 2,
   "metadata": {},
   "outputs": [],
   "source": [
    "# Register custom pipeline\n",
    "PIPELINE_REGISTRY.register_pipeline(\n",
    "    \"NER_NLP_tagger\",\n",
    "    pipeline_class=NER_Pipeline,\n",
    "    pt_model=transformers.AutoModelForTokenClassification\n",
    ")\n",
    "\n",
    "# Load NER tagger pipeline\n",
    "ner_tagger = transformers.pipeline(\n",
    "    \"NER_NLP_tagger\", model=\"SurtMcGert/NLP-group-CW-roberta-ner-tagging\")"
   ]
  },
  {
   "cell_type": "code",
   "execution_count": 3,
   "metadata": {},
   "outputs": [],
   "source": [
    "def compare(expected, predicted):\n",
    "    if (expected == predicted):\n",
    "        print(\"============ Test passed ============\")\n",
    "    else:\n",
    "        print(f\"============ Test failed ============\\nPredicted:\\n{predicted}\")"
   ]
  },
  {
   "cell_type": "markdown",
   "metadata": {},
   "source": [
    "Test to see if the `ner_tagger` model is called correctly by the server"
   ]
  },
  {
   "cell_type": "code",
   "execution_count": null,
   "metadata": {},
   "outputs": [],
   "source": [
    "input = \"This is a test\"\n",
    "\n",
    "expected = ner_tagger(input)\n",
    "\n",
    "predicted = request_results(input)\n",
    "\n",
    "compare(expected, predicted)"
   ]
  },
  {
   "cell_type": "markdown",
   "metadata": {},
   "source": [
    "Test to see if the `get_acronym_description()` function works as expected"
   ]
  },
  {
   "cell_type": "code",
   "execution_count": 5,
   "metadata": {},
   "outputs": [
    {
     "name": "stdout",
     "output_type": "stream",
     "text": [
      "============ Test passed ============\n"
     ]
    }
   ],
   "source": [
    "input = \"Federal Bureau of Investigation (FBI)\"\n",
    "\n",
    "expected = \"The Federal Bureau of Investigation (FBI) is the domestic intelligence and security service of the United States and its principal federal law enforcement agency\"\n",
    "\n",
    "predicted = get_acronym_description(input)\n",
    "\n",
    "if (predicted == \"\"):\n",
    "    print(True)\n",
    "else:\n",
    "    compare(expected, predicted)"
   ]
  },
  {
   "cell_type": "markdown",
   "metadata": {},
   "source": [
    "Test to see if the `get_acronym_and_long_forms()` function works as expected"
   ]
  },
  {
   "cell_type": "code",
   "execution_count": 6,
   "metadata": {},
   "outputs": [
    {
     "name": "stdout",
     "output_type": "stream",
     "text": [
      "============ Test passed ============\n"
     ]
    }
   ],
   "source": [
    "# Test to see if get_acronyms_and_long_forms is functional\n",
    "input = [(\"This\", \"B-O\"), (\"is\", \"B-O\"), (\"a\", \"B-O\"), (\"test\", \"B-O\"), (\"Federal\", \"B-LF\"), (\"Bureau\", \"I-LF\"), (\"of\", \"I-LF\"), (\"Investigation\", \"I-LF\"), (\"FBI\", \"B-AC\")]\n",
    "\n",
    "expected = {\n",
    "    \"Acronyms\": [\"FBI\"],\n",
    "    \"Long Forms\": [\"Federal Bureau of Investigation\"]\n",
    "}\n",
    "\n",
    "predicted = get_acronyms_and_long_forms(input)\n",
    "\n",
    "compare(expected, predicted)"
   ]
  },
  {
   "cell_type": "markdown",
   "metadata": {},
   "source": [
    "Test the front-end functionality. This test will create a list of randomly-generated text, and feed it through an actual browser using the Selenium library."
   ]
  },
  {
   "cell_type": "code",
   "execution_count": null,
   "metadata": {},
   "outputs": [],
   "source": [
    "# Test server's responsiveness\n",
    "test_input = []\n",
    "\n",
    "# Create a list of randomly-generated text\n",
    "fake = Faker()\n",
    "for i in range(5):\n",
    "    test_input.append(fake.text(max_nb_chars=2000))\n",
    "\n",
    "# Create a list of the page elements we want to find on the results page\n",
    "xpaths = [\n",
    "    \"/html/body/div[1]/div[1]/div[1]/div/div/div/section/div[1]/div/div/div/div[6]/div[2]/div/div/div/div/div/div/table\",\n",
    "    \"/html/body/div[1]/div[1]/div[1]/div/div/div/section/div[1]/div/div/div/div[4]/div/div/p/span\",\n",
    "    \"/html/body/div[1]/div[1]/div[1]/div/div/div/section/div[1]/div/div/div/div[6]/div[2]/div/div/div/div/div/div/table\"\n",
    "]\n",
    "\n",
    "# Create web browser\n",
    "browser = webdriver.Firefox()\n",
    "\n",
    "# Go to website\n",
    "browser.get(\"http://localhost:8501\")\n",
    "\n",
    "# Wait for website to load\n",
    "time.sleep(5)\n",
    "\n",
    "test_pass = True\n",
    "for i, input_string in enumerate(test_input):\n",
    "    # Find the input text box\n",
    "    element = WebDriverWait(browser, 20).until(EC.element_to_be_clickable((By.XPATH, \"//*[@id=\\\"text_input_1\\\"]\")))\n",
    "    # Since this test runs repeatedly, clear the text box of the last test input\n",
    "    element.clear()\n",
    "    # Input the sample text\n",
    "    element.send_keys(input_string)\n",
    "    # Press the Enter key\n",
    "    element.send_keys(Keys.RETURN)\n",
    "\n",
    "    # Look to see if the elements are generated correctly\n",
    "    for xpath in xpaths:\n",
    "        try:\n",
    "            element = WebDriverWait(browser, 20).until(EC.presence_of_element_located((By.XPATH, xpath)))\n",
    "        except:\n",
    "            # Fail the test if it cannot find one\n",
    "            test_pass = False\n",
    "\n",
    "    # Pause just so we can see the results page\n",
    "    time.sleep(2)\n",
    "\n",
    "# Close the browser\n",
    "browser.quit()\n",
    "\n",
    "if (test_pass == True):\n",
    "    print(\"Test passed\")\n",
    "else:\n",
    "    print(\"Test failed\")"
   ]
  }
 ],
 "metadata": {
  "kernelspec": {
   "display_name": "venv",
   "language": "python",
   "name": "python3"
  },
  "language_info": {
   "codemirror_mode": {
    "name": "ipython",
    "version": 3
   },
   "file_extension": ".py",
   "mimetype": "text/x-python",
   "name": "python",
   "nbconvert_exporter": "python",
   "pygments_lexer": "ipython3",
   "version": "3.10.11"
  }
 },
 "nbformat": 4,
 "nbformat_minor": 2
}
