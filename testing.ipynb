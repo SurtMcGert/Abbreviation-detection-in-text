{
 "cells": [
  {
   "cell_type": "code",
   "execution_count": 14,
   "metadata": {},
   "outputs": [],
   "source": [
    "import pytest\n",
    "from unittest.mock import patch\n",
    "import re\n",
    "import logging.config\n",
    "# from transformers import AutoModelForTokenClassification, pipeline, AutoTokenizer\n",
    "import transformers\n",
    "from transformers.pipelines import PIPELINE_REGISTRY\n",
    "import threading\n",
    "import time\n",
    "from pipeline import NER_Pipeline\n",
    "from queue import Queue\n",
    "import streamlit as st\n",
    "from annotated_text import annotated_text\n",
    "from collections import Counter, OrderedDict\n",
    "import pandas as pd\n",
    "import altair as alt\n",
    "import wikipediaapi\n",
    "import re\n",
    "import wikipedia\n",
    "import requests\n",
    "import json\n",
    "from selenium import webdriver\n",
    "from selenium.webdriver.support.wait import WebDriverWait\n",
    "from selenium.webdriver.support import expected_conditions as EC\n",
    "from selenium.webdriver.common.by import By\n",
    "from selenium.webdriver.firefox.options import Options\n",
    "from selenium.webdriver.common.keys import Keys\n",
    "\n",
    "from server import get_acronym_description, request_results, get_acronyms_and_long_forms"
   ]
  },
  {
   "cell_type": "code",
   "execution_count": 2,
   "metadata": {},
   "outputs": [],
   "source": [
    "\n",
    "# Register custom pipeline\n",
    "PIPELINE_REGISTRY.register_pipeline(\n",
    "    \"NER_NLP_tagger\",\n",
    "    pipeline_class=NER_Pipeline,\n",
    "    pt_model=transformers.AutoModelForTokenClassification\n",
    ")\n",
    "\n",
    "# Load NER tagger pipeline\n",
    "ner_tagger = transformers.pipeline(\n",
    "    \"NER_NLP_tagger\", model=\"SurtMcGert/NLP-group-CW-roberta-ner-tagging\")"
   ]
  },
  {
   "cell_type": "code",
   "execution_count": 3,
   "metadata": {},
   "outputs": [],
   "source": [
    "def compare(expected, predicted):\n",
    "    if (expected == predicted):\n",
    "        print(\"============ Test passed ============\")\n",
    "    else:\n",
    "        print(f\"============ Test failed ============\\nPredicted:\\n{predicted}\")"
   ]
  },
  {
   "cell_type": "code",
   "execution_count": 4,
   "metadata": {},
   "outputs": [
    {
     "name": "stderr",
     "output_type": "stream",
     "text": [
      "[nltk_data] Downloading package wordnet to C:\\Users\\Chris\n",
      "[nltk_data]     Harland\\AppData\\Roaming\\nltk_data...\n",
      "[nltk_data]   Package wordnet is already up-to-date!\n"
     ]
    },
    {
     "name": "stdout",
     "output_type": "stream",
     "text": [
      "============ Test passed ============\n"
     ]
    },
    {
     "name": "stderr",
     "output_type": "stream",
     "text": [
      "[nltk_data] Downloading package wordnet to C:\\Users\\Chris\n",
      "[nltk_data]     Harland\\AppData\\Roaming\\nltk_data...\n",
      "[nltk_data]   Package wordnet is already up-to-date!\n"
     ]
    }
   ],
   "source": [
    "# Test to see if ner_tagger is correctly called\n",
    "input = \"This is a test\"\n",
    "\n",
    "expected = ner_tagger(input)\n",
    "\n",
    "predicted = request_results(input)\n",
    "\n",
    "compare(expected, predicted)"
   ]
  },
  {
   "cell_type": "code",
   "execution_count": 5,
   "metadata": {},
   "outputs": [
    {
     "name": "stdout",
     "output_type": "stream",
     "text": [
      "============ Test passed ============\n"
     ]
    }
   ],
   "source": [
    "# Test to see if get_acronym_description is functional\n",
    "input = \"Federal Bureau of Investigation (FBI)\"\n",
    "\n",
    "expected = \"The Federal Bureau of Investigation (FBI) is the domestic intelligence and security service of the United States and its principal federal law enforcement agency\"\n",
    "\n",
    "predicted = get_acronym_description(input)\n",
    "\n",
    "if (predicted == \"\"):\n",
    "    print(True)\n",
    "else:\n",
    "    compare(expected, predicted)"
   ]
  },
  {
   "cell_type": "code",
   "execution_count": 6,
   "metadata": {},
   "outputs": [
    {
     "name": "stdout",
     "output_type": "stream",
     "text": [
      "============ Test passed ============\n"
     ]
    }
   ],
   "source": [
    "# Test to see if get_acronyms_and_long_forms is functional\n",
    "input = [(\"This\", \"B-O\"), (\"is\", \"B-O\"), (\"a\", \"B-O\"), (\"test\", \"B-O\"), (\"Federal\", \"B-LF\"), (\"Bureau\", \"I-LF\"), (\"of\", \"I-LF\"), (\"Investigation\", \"I-LF\"), (\"FBI\", \"B-AC\")]\n",
    "\n",
    "expected = {\n",
    "    \"Acronyms\": [\"FBI\"],\n",
    "    \"Long Forms\": [\"Federal Bureau of Investigation\"]\n",
    "}\n",
    "\n",
    "predicted = get_acronyms_and_long_forms(input)\n",
    "\n",
    "compare(expected, predicted)"
   ]
  },
  {
   "cell_type": "code",
   "execution_count": 22,
   "metadata": {},
   "outputs": [],
   "source": [
    "# Test server's responsiveness\n",
    "\n",
    "browser = webdriver.Firefox()\n",
    "\n",
    "browser.get(\"http://localhost:8501\")\n",
    "\n",
    "time.sleep(5)\n",
    "\n",
    "element = WebDriverWait(browser, 20).until(EC.element_to_be_clickable((By.XPATH, \"//*[@id=\\\"text_input_1\\\"]\")))\n",
    "element.send_keys(\"This is a test\")\n",
    "element.send_keys(Keys.RETURN)\n",
    "\n",
    "xpaths = [\n",
    "    \"/html/body/div[1]/div[1]/div[1]/div/div/div/section/div[1]/div/div/div/div[6]/div[2]/div/div/div/div/div/div/table\",\n",
    "    \"/html/body/div[1]/div[1]/div[1]/div/div/div/section/div[1]/div/div/div/div[4]/div/div/p/span\",\n",
    "    \"/html/body/div[1]/div[1]/div[1]/div/div/div/section/div[1]/div/div/div/div[6]/div[2]/div/div/div/div/div/div/table\"\n",
    "]\n",
    "\n",
    "test_pass = True\n",
    "for xpath in xpaths:\n",
    "    try:\n",
    "        element = WebDriverWait(browser, 20).until(EC.presence_of_element_located((By.XPATH, xpath)))\n",
    "    except:\n",
    "        test_pass = False\n",
    "\n",
    "browser.quit()\n",
    "\n",
    "if (test_pass == True):\n",
    "    print(\"Test passed\")\n",
    "else:\n",
    "    print(\"Test failed\")\n"
   ]
  }
 ],
 "metadata": {
  "kernelspec": {
   "display_name": "venv",
   "language": "python",
   "name": "python3"
  },
  "language_info": {
   "codemirror_mode": {
    "name": "ipython",
    "version": 3
   },
   "file_extension": ".py",
   "mimetype": "text/x-python",
   "name": "python",
   "nbconvert_exporter": "python",
   "pygments_lexer": "ipython3",
   "version": "3.10.11"
  }
 },
 "nbformat": 4,
 "nbformat_minor": 2
}
