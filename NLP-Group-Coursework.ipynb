{
 "cells": [
  {
   "cell_type": "markdown",
   "metadata": {},
   "source": [
    "# Prep"
   ]
  },
  {
   "cell_type": "code",
   "execution_count": null,
   "metadata": {},
   "outputs": [],
   "source": [
    "# Install dependencies\n",
    "# %pip install -q -U ipywidgets transformers tqdm\n",
    "# %pip install -q -U seqeval\n",
    "# %pip install -q -U accelerate\n",
    "# %pip install -q -U transformers[torch]\n",
    "# %pip install -q --upgrade -U torch torchvision torchaudio torchtext\n",
    "# %pip install -q dill==0.3.1.1\n",
    "# %pip install -q numpy==1.14.3\n",
    "# %pip install -q pyarrow==0.3.8\n",
    "# %pip install -q multiprocess==0.70.16\n",
    "# %pip install -q -U datasets==2.6.0\n",
    "# %pip install fsspec==2023.9.2\n",
    "# %pip install spacy\n",
    "# %pip install spacy-en-core-web-sm\n",
    "# %python3 -m spacy download en_core_web_sm"
   ]
  },
  {
   "cell_type": "code",
   "execution_count": 1,
   "metadata": {},
   "outputs": [],
   "source": [
    "import datasets\n",
    "import torch\n",
    "import torchtext\n",
    "from datasets import load_dataset, Features, Value\n",
    "import matplotlib.pyplot as plt\n",
    "import nltk\n",
    "from datasets import DatasetDict, Dataset\n",
    "from sklearn.metrics import classification_report\n",
    "from transformers import AutoTokenizer\n",
    "import transformers\n",
    "from transformers import AutoModelForTokenClassification, TrainingArguments, Trainer, pipeline, Pipeline\n",
    "from transformers import DataCollatorForTokenClassification\n",
    "from datasets import load_metric\n",
    "import numpy as np\n",
    "import dill\n",
    "import gc\n",
    "from transformers import Trainer\n",
    "import torch.nn as nn\n",
    "from datasets import DatasetDict, Dataset\n",
    "from sklearn.pipeline import Pipeline\n",
    "from transformers.pipelines import PIPELINE_REGISTRY\n",
    "from pipeline import NER_Pipeline\n",
    "import spacy"
   ]
  },
  {
   "cell_type": "code",
   "execution_count": 21,
   "metadata": {},
   "outputs": [
    {
     "name": "stdout",
     "output_type": "stream",
     "text": [
      "PyTorch Version:  2.2.1+cu121\n",
      "torchtext Version:  0.17.1+cpu\n",
      "Using GPU.\n"
     ]
    }
   ],
   "source": [
    "SEED = 1234\n",
    "DEVICE = torch.device(\"cuda\" if torch.cuda.is_available() else \"cpu\")\n",
    "torch.manual_seed(SEED)\n",
    "torch.backends.cudnn.deterministic = True\n",
    "\n",
    "print(\"PyTorch Version: \", torch.__version__)\n",
    "print(\"torchtext Version: \", torchtext.__version__)\n",
    "print(f\"Using {'GPU' if str(DEVICE) == 'cuda' else 'CPU'}.\")"
   ]
  },
  {
   "cell_type": "markdown",
   "metadata": {},
   "source": [
    "# Pre Processing"
   ]
  },
  {
   "cell_type": "code",
   "execution_count": 22,
   "metadata": {},
   "outputs": [
    {
     "name": "stdout",
     "output_type": "stream",
     "text": [
      "['B-O', 'B-AC', 'B-LF', 'I-LF']\n"
     ]
    }
   ],
   "source": [
    "label_list = ['B-O', 'B-AC', 'B-LF', 'I-LF']\n",
    "print(label_list)"
   ]
  },
  {
   "cell_type": "markdown",
   "metadata": {},
   "source": [
    "## Lemmatization"
   ]
  },
  {
   "cell_type": "code",
   "execution_count": 4,
   "metadata": {},
   "outputs": [
    {
     "name": "stderr",
     "output_type": "stream",
     "text": [
      "[nltk_data] Downloading package wordnet to\n",
      "[nltk_data]     C:\\Users\\harry\\AppData\\Roaming\\nltk_data...\n",
      "[nltk_data]   Package wordnet is already up-to-date!\n"
     ]
    },
    {
     "data": {
      "text/plain": [
       "True"
      ]
     },
     "execution_count": 4,
     "metadata": {},
     "output_type": "execute_result"
    }
   ],
   "source": [
    "nltk.download('wordnet')"
   ]
  },
  {
   "cell_type": "code",
   "execution_count": 14,
   "metadata": {},
   "outputs": [],
   "source": [
    "def combine_lists_elementwise(list_A, list_B):\n",
    "  \"\"\"\n",
    "  Combines two 2D lists of strings element-wise into a 2D list of tuples.\n",
    "\n",
    "  Args:\n",
    "      list_A: A 2D list of strings (e.g., [['A', 'A', 'A'], ['A', 'A', 'A']]).\n",
    "      list_B: Another 2D list of strings with the same dimensions as list_A.\n",
    "\n",
    "  Returns:\n",
    "      A 2D list of tuples, where each tuple combines corresponding elements from list_A and list_B.\n",
    "\n",
    "  Raises:\n",
    "      ValueError: If the dimensions of list_A and list_B don't match.\n",
    "  \"\"\"\n",
    "\n",
    "  # Check if dimensions match\n",
    "  if len(list_A) != len(list_B) or len(list_A[0]) != len(list_B[0]):\n",
    "    raise ValueError(\"Dimensions of lists A and B must be equal.\")\n",
    "\n",
    "  # Create the resulting list using list comprehension\n",
    "  return [[(a, b) for a, b in zip(row_a, row_b)] for row_a, row_b in zip(list_A, list_B)]"
   ]
  },
  {
   "cell_type": "code",
   "execution_count": 29,
   "metadata": {},
   "outputs": [],
   "source": [
    "def convert_pos_tag(nltk_tag):\n",
    "    \"\"\"\n",
    "    Converts NLTK POS tags to the format expected by the lemmatizer.\n",
    "\n",
    "    Args:\n",
    "        nltk_tag: The POS tag in NLTK format (e.g., VBG, NNS).\n",
    "\n",
    "    Returns:\n",
    "        The corresponding POS tag for the lemmatizer (n, v, a, r, or s) or None if no match.\n",
    "    \"\"\"\n",
    "\n",
    "    tag_map = {\n",
    "        'NUM': '',  # Number (not handled by lemmatizer)\n",
    "        'CCONJ': '',  # Coordinating conjunction (not handled)\n",
    "        'PRON': '',  # Pronoun (not handled)\n",
    "        'NOUN': 'n',   # Noun\n",
    "        'SCONJ': '',  # Subordinating conjunction (not handled)\n",
    "        'SYM': '',   # Symbol (not handled)\n",
    "        'INTJ': '',  # Interjection (not handled)\n",
    "        'ADJ': 'a',    # Adjective\n",
    "        'ADP': '',   # Preposition (not handled)\n",
    "        'PUNCT': '',  # Punctuation (not handled)\n",
    "        'ADV': 'r',    # Adverb\n",
    "        'AUX': 'v',    # Auxiliary verb\n",
    "        'DET': '',   # Determiner (not handled)\n",
    "        'VERB': 'v',   # Verb\n",
    "        'X': '',      # Other (not handled)\n",
    "        'PART': '',   # Particle (not handled)\n",
    "        'PROPN': 'n',   # Proper noun\n",
    "    }\n",
    "    return tag_map.get(nltk_tag)"
   ]
  },
  {
   "cell_type": "code",
   "execution_count": 41,
   "metadata": {},
   "outputs": [],
   "source": [
    "def lemmatize_list(data, pos_tags):\n",
    "    \"\"\"\n",
    "    Lemmatizes a 2D list of tokens using NLTK.\n",
    "\n",
    "    Args:\n",
    "        data: A 2D list of strings (tokens) to be lemmatized.\n",
    "\n",
    "    Returns:\n",
    "        A 2D list containing the lemmatized tokens.\n",
    "    \"\"\"\n",
    "\n",
    "    # Initialize the WordNet lemmatizer\n",
    "    lemmatizer = nltk.WordNetLemmatizer()\n",
    "\n",
    "    pos_tags = [[convert_pos_tag(tag) for tag in row] for row in pos_tags]\n",
    "\n",
    "\n",
    "    data = combine_lists_elementwise(data, pos_tags)\n",
    "\n",
    "\n",
    "    # Lemmatize with part-of-speech information\n",
    "    lemmatized_data = [[token if pos == '' else lemmatizer.lemmatize(token, pos) for token, pos in row] for row in data]\n",
    "\n",
    "    return lemmatized_data"
   ]
  },
  {
   "cell_type": "markdown",
   "metadata": {},
   "source": [
    "## Pre-Processing Pipeline"
   ]
  },
  {
   "cell_type": "code",
   "execution_count": 42,
   "metadata": {},
   "outputs": [],
   "source": [
    "def pre_process_data(tokens, pos_tags):\n",
    "    # lemmatize the data\n",
    "    data = lemmatize_list(tokens, pos_tags)\n",
    "    # lowercase the data\n",
    "    data = [[string.lower() for string in row] for row in data]\n",
    "    return data"
   ]
  },
  {
   "cell_type": "code",
   "execution_count": 4,
   "metadata": {},
   "outputs": [],
   "source": [
    "task = \"ner\""
   ]
  },
  {
   "cell_type": "markdown",
   "metadata": {},
   "source": [
    "# Model"
   ]
  },
  {
   "cell_type": "markdown",
   "metadata": {},
   "source": [
    "## Tokenizer"
   ]
  },
  {
   "cell_type": "code",
   "execution_count": 23,
   "metadata": {},
   "outputs": [
    {
     "data": {
      "text/plain": [
       "('model_saves/BERT_ex4_six_save\\\\tokenizer_config.json',\n",
       " 'model_saves/BERT_ex4_six_save\\\\special_tokens_map.json',\n",
       " 'model_saves/BERT_ex4_six_save\\\\vocab.txt',\n",
       " 'model_saves/BERT_ex4_six_save\\\\added_tokens.json',\n",
       " 'model_saves/BERT_ex4_six_save\\\\tokenizer.json')"
      ]
     },
     "execution_count": 23,
     "metadata": {},
     "output_type": "execute_result"
    }
   ],
   "source": [
    "model_checkpoint = \"bert-base-uncased\"\n",
    "#model_checkpoint = \"xlnet-base-cased\"\n",
    "tokenizer = AutoTokenizer.from_pretrained(model_checkpoint, add_prefix_space=True) # use AutoTokenizer because it defaults to fast tokenizers where as using the BERT Tokenizer does not\n",
    "assert isinstance(tokenizer, transformers.PreTrainedTokenizerFast)\n",
    "tokenizer.save_pretrained(\"model_saves/BERT_ex4_six_save\")"
   ]
  },
  {
   "cell_type": "code",
   "execution_count": 24,
   "metadata": {},
   "outputs": [],
   "source": [
    "MODEL_NAME = \"model_saves/BERT_ex4_six_save\"\n",
    "model = AutoModelForTokenClassification.from_pretrained(MODEL_NAME, num_labels=len(label_list))"
   ]
  },
  {
   "cell_type": "code",
   "execution_count": 51,
   "metadata": {},
   "outputs": [
    {
     "name": "stdout",
     "output_type": "stream",
     "text": [
      "['this', 'is', 'a', 'nl', '##p', 'test']\n",
      "[('this', 0), ('is', 0), ('a', 0), ('nl', 1), ('##p', 1), ('test', 0)]\n"
     ]
    }
   ],
   "source": [
    "text = [\"this\", \"is\", \"a\", \"NLP\", \"test\"]\n",
    "model_inputs = tokenizer(text, truncation=True, is_split_into_words=True, return_tensors=\"pt\")\n",
    "\n",
    "predictions = model(model_inputs[\"input_ids\"], attention_mask=model_inputs[\"attention_mask\"])\n",
    "logits = predictions.logits.argmax(-1)\n",
    "logits = logits[0].tolist()\n",
    "logits = logits[1:-1]\n",
    "\n",
    "all_tokens = []\n",
    "for token_id in model_inputs[\"input_ids\"][0]:\n",
    "  token = tokenizer.convert_ids_to_tokens([token_id], skip_special_tokens=False)[0]\n",
    "  all_tokens.append(token)\n",
    "\n",
    "all_tokens = all_tokens[1:-1]\n",
    "\n",
    "output = list(zip(all_tokens, logits))\n",
    "print(output)"
   ]
  },
  {
   "cell_type": "markdown",
   "metadata": {},
   "source": [
    "# Pipeline"
   ]
  },
  {
   "cell_type": "code",
   "execution_count": 7,
   "metadata": {},
   "outputs": [],
   "source": [
    "# Register custom pipeline\n",
    "PIPELINE_REGISTRY.register_pipeline(\n",
    "    \"NER_NLP_tagger\",\n",
    "    pipeline_class = NER_Pipeline,\n",
    "    pt_model = AutoModelForTokenClassification\n",
    ")"
   ]
  },
  {
   "cell_type": "code",
   "execution_count": 8,
   "metadata": {},
   "outputs": [],
   "source": [
    "ner_tagger = pipeline(\"NER_NLP_tagger\", model = MODEL_NAME)"
   ]
  },
  {
   "cell_type": "markdown",
   "metadata": {},
   "source": [
    "### Quick Test"
   ]
  },
  {
   "cell_type": "code",
   "execution_count": 9,
   "metadata": {},
   "outputs": [
    {
     "name": "stderr",
     "output_type": "stream",
     "text": [
      "[nltk_data] Downloading package wordnet to\n",
      "[nltk_data]     C:\\Users\\harry\\AppData\\Roaming\\nltk_data...\n",
      "[nltk_data]   Package wordnet is already up-to-date!\n"
     ]
    },
    {
     "name": "stdout",
     "output_type": "stream",
     "text": [
      "ModelOutput([('logits', tensor([[[ 4.2329, -0.7156, -1.7449, -1.7011],\n",
      "         [ 5.8678, -2.2680, -1.7264, -2.0507],\n",
      "         [ 6.1571, -2.5399, -1.9748, -2.1765],\n",
      "         [ 6.5044, -2.3500, -2.1571, -2.3708],\n",
      "         [ 6.3640, -2.5742, -1.9788, -2.1533],\n",
      "         [ 6.4246, -2.7203, -1.9795, -1.9951],\n",
      "         [ 5.5785, -2.1480, -0.9883, -2.6478],\n",
      "         [ 0.0527,  2.4808, -0.1440, -1.8209],\n",
      "         [-0.1638,  2.9137, -0.5655, -1.9580],\n",
      "         [ 2.3796, -1.0876, -0.4989, -0.9725],\n",
      "         [ 2.1622, -1.8587, -0.2954,  0.4922],\n",
      "         [ 2.4821,  0.2444, -2.8167, -0.1760],\n",
      "         [ 5.6708, -1.8396, -2.2162, -2.1163],\n",
      "         [ 4.5670, -0.3235, -2.8016, -1.5900]]]))])\n"
     ]
    },
    {
     "ename": "TypeError",
     "evalue": "argument 'ids': 'list' object cannot be interpreted as an integer",
     "output_type": "error",
     "traceback": [
      "\u001b[1;31m---------------------------------------------------------------------------\u001b[0m",
      "\u001b[1;31mTypeError\u001b[0m                                 Traceback (most recent call last)",
      "Cell \u001b[1;32mIn[9], line 1\u001b[0m\n\u001b[1;32m----> 1\u001b[0m output \u001b[38;5;241m=\u001b[39m \u001b[43mner_tagger\u001b[49m\u001b[43m(\u001b[49m\u001b[38;5;124;43m\"\u001b[39;49m\u001b[38;5;124;43mthis is a test on our NLP tagging AI.\u001b[39;49m\u001b[38;5;124;43m\"\u001b[39;49m\u001b[43m)\u001b[49m\n\u001b[0;32m      2\u001b[0m \u001b[38;5;28mprint\u001b[39m(output)\n",
      "File \u001b[1;32m~\\AppData\\Local\\Packages\\PythonSoftwareFoundation.Python.3.10_qbz5n2kfra8p0\\LocalCache\\local-packages\\Python310\\site-packages\\transformers\\pipelines\\base.py:1219\u001b[0m, in \u001b[0;36mPipeline.__call__\u001b[1;34m(self, inputs, num_workers, batch_size, *args, **kwargs)\u001b[0m\n\u001b[0;32m   1211\u001b[0m     \u001b[38;5;28;01mreturn\u001b[39;00m \u001b[38;5;28mnext\u001b[39m(\n\u001b[0;32m   1212\u001b[0m         \u001b[38;5;28miter\u001b[39m(\n\u001b[0;32m   1213\u001b[0m             \u001b[38;5;28mself\u001b[39m\u001b[38;5;241m.\u001b[39mget_iterator(\n\u001b[1;32m   (...)\u001b[0m\n\u001b[0;32m   1216\u001b[0m         )\n\u001b[0;32m   1217\u001b[0m     )\n\u001b[0;32m   1218\u001b[0m \u001b[38;5;28;01melse\u001b[39;00m:\n\u001b[1;32m-> 1219\u001b[0m     \u001b[38;5;28;01mreturn\u001b[39;00m \u001b[38;5;28;43mself\u001b[39;49m\u001b[38;5;241;43m.\u001b[39;49m\u001b[43mrun_single\u001b[49m\u001b[43m(\u001b[49m\u001b[43minputs\u001b[49m\u001b[43m,\u001b[49m\u001b[43m \u001b[49m\u001b[43mpreprocess_params\u001b[49m\u001b[43m,\u001b[49m\u001b[43m \u001b[49m\u001b[43mforward_params\u001b[49m\u001b[43m,\u001b[49m\u001b[43m \u001b[49m\u001b[43mpostprocess_params\u001b[49m\u001b[43m)\u001b[49m\n",
      "File \u001b[1;32m~\\AppData\\Local\\Packages\\PythonSoftwareFoundation.Python.3.10_qbz5n2kfra8p0\\LocalCache\\local-packages\\Python310\\site-packages\\transformers\\pipelines\\base.py:1227\u001b[0m, in \u001b[0;36mPipeline.run_single\u001b[1;34m(self, inputs, preprocess_params, forward_params, postprocess_params)\u001b[0m\n\u001b[0;32m   1225\u001b[0m model_inputs \u001b[38;5;241m=\u001b[39m \u001b[38;5;28mself\u001b[39m\u001b[38;5;241m.\u001b[39mpreprocess(inputs, \u001b[38;5;241m*\u001b[39m\u001b[38;5;241m*\u001b[39mpreprocess_params)\n\u001b[0;32m   1226\u001b[0m model_outputs \u001b[38;5;241m=\u001b[39m \u001b[38;5;28mself\u001b[39m\u001b[38;5;241m.\u001b[39mforward(model_inputs, \u001b[38;5;241m*\u001b[39m\u001b[38;5;241m*\u001b[39mforward_params)\n\u001b[1;32m-> 1227\u001b[0m outputs \u001b[38;5;241m=\u001b[39m \u001b[38;5;28mself\u001b[39m\u001b[38;5;241m.\u001b[39mpostprocess(model_outputs, \u001b[38;5;241m*\u001b[39m\u001b[38;5;241m*\u001b[39mpostprocess_params)\n\u001b[0;32m   1228\u001b[0m \u001b[38;5;28;01mreturn\u001b[39;00m outputs\n",
      "File \u001b[1;32me:\\uni\\year 3\\semester 2\\NLP\\cw\\NLP-coursework\\pipeline.py:47\u001b[0m, in \u001b[0;36mNER_Pipeline.postprocess\u001b[1;34m(self, model_outputs)\u001b[0m\n\u001b[0;32m     44\u001b[0m \u001b[38;5;28;01mdef\u001b[39;00m \u001b[38;5;21mpostprocess\u001b[39m(\u001b[38;5;28mself\u001b[39m, model_outputs):\n\u001b[0;32m     45\u001b[0m     \u001b[38;5;28mprint\u001b[39m(model_outputs)\n\u001b[1;32m---> 47\u001b[0m     decoded_output \u001b[38;5;241m=\u001b[39m \u001b[38;5;28;43mself\u001b[39;49m\u001b[38;5;241;43m.\u001b[39;49m\u001b[43mtokenizer\u001b[49m\u001b[38;5;241;43m.\u001b[39;49m\u001b[43mdecode\u001b[49m\u001b[43m(\u001b[49m\n\u001b[0;32m     48\u001b[0m \u001b[43m        \u001b[49m\u001b[43mmodel_outputs\u001b[49m\u001b[43m[\u001b[49m\u001b[38;5;241;43m0\u001b[39;49m\u001b[43m]\u001b[49m\u001b[43m,\u001b[49m\u001b[43m \u001b[49m\u001b[43mskip_special_tokens\u001b[49m\u001b[38;5;241;43m=\u001b[39;49m\u001b[38;5;28;43;01mTrue\u001b[39;49;00m\u001b[43m)\u001b[49m\n\u001b[0;32m     49\u001b[0m     \u001b[38;5;28;01mreturn\u001b[39;00m decoded_output\n",
      "File \u001b[1;32m~\\AppData\\Local\\Packages\\PythonSoftwareFoundation.Python.3.10_qbz5n2kfra8p0\\LocalCache\\local-packages\\Python310\\site-packages\\transformers\\tokenization_utils_base.py:3811\u001b[0m, in \u001b[0;36mPreTrainedTokenizerBase.decode\u001b[1;34m(self, token_ids, skip_special_tokens, clean_up_tokenization_spaces, **kwargs)\u001b[0m\n\u001b[0;32m   3808\u001b[0m \u001b[38;5;66;03m# Convert inputs to python lists\u001b[39;00m\n\u001b[0;32m   3809\u001b[0m token_ids \u001b[38;5;241m=\u001b[39m to_py_obj(token_ids)\n\u001b[1;32m-> 3811\u001b[0m \u001b[38;5;28;01mreturn\u001b[39;00m \u001b[38;5;28mself\u001b[39m\u001b[38;5;241m.\u001b[39m_decode(\n\u001b[0;32m   3812\u001b[0m     token_ids\u001b[38;5;241m=\u001b[39mtoken_ids,\n\u001b[0;32m   3813\u001b[0m     skip_special_tokens\u001b[38;5;241m=\u001b[39mskip_special_tokens,\n\u001b[0;32m   3814\u001b[0m     clean_up_tokenization_spaces\u001b[38;5;241m=\u001b[39mclean_up_tokenization_spaces,\n\u001b[0;32m   3815\u001b[0m     \u001b[38;5;241m*\u001b[39m\u001b[38;5;241m*\u001b[39mkwargs,\n\u001b[0;32m   3816\u001b[0m )\n",
      "File \u001b[1;32m~\\AppData\\Local\\Packages\\PythonSoftwareFoundation.Python.3.10_qbz5n2kfra8p0\\LocalCache\\local-packages\\Python310\\site-packages\\transformers\\tokenization_utils_fast.py:625\u001b[0m, in \u001b[0;36mPreTrainedTokenizerFast._decode\u001b[1;34m(self, token_ids, skip_special_tokens, clean_up_tokenization_spaces, **kwargs)\u001b[0m\n\u001b[0;32m    623\u001b[0m \u001b[38;5;28;01mif\u001b[39;00m \u001b[38;5;28misinstance\u001b[39m(token_ids, \u001b[38;5;28mint\u001b[39m):\n\u001b[0;32m    624\u001b[0m     token_ids \u001b[38;5;241m=\u001b[39m [token_ids]\n\u001b[1;32m--> 625\u001b[0m text \u001b[38;5;241m=\u001b[39m \u001b[38;5;28;43mself\u001b[39;49m\u001b[38;5;241;43m.\u001b[39;49m\u001b[43m_tokenizer\u001b[49m\u001b[38;5;241;43m.\u001b[39;49m\u001b[43mdecode\u001b[49m\u001b[43m(\u001b[49m\u001b[43mtoken_ids\u001b[49m\u001b[43m,\u001b[49m\u001b[43m \u001b[49m\u001b[43mskip_special_tokens\u001b[49m\u001b[38;5;241;43m=\u001b[39;49m\u001b[43mskip_special_tokens\u001b[49m\u001b[43m)\u001b[49m\n\u001b[0;32m    627\u001b[0m clean_up_tokenization_spaces \u001b[38;5;241m=\u001b[39m (\n\u001b[0;32m    628\u001b[0m     clean_up_tokenization_spaces\n\u001b[0;32m    629\u001b[0m     \u001b[38;5;28;01mif\u001b[39;00m clean_up_tokenization_spaces \u001b[38;5;129;01mis\u001b[39;00m \u001b[38;5;129;01mnot\u001b[39;00m \u001b[38;5;28;01mNone\u001b[39;00m\n\u001b[0;32m    630\u001b[0m     \u001b[38;5;28;01melse\u001b[39;00m \u001b[38;5;28mself\u001b[39m\u001b[38;5;241m.\u001b[39mclean_up_tokenization_spaces\n\u001b[0;32m    631\u001b[0m )\n\u001b[0;32m    632\u001b[0m \u001b[38;5;28;01mif\u001b[39;00m clean_up_tokenization_spaces:\n",
      "\u001b[1;31mTypeError\u001b[0m: argument 'ids': 'list' object cannot be interpreted as an integer"
     ]
    }
   ],
   "source": [
    "output = ner_tagger(\"this is a test on our NLP tagging AI.\")\n",
    "print(output)"
   ]
  },
  {
   "cell_type": "markdown",
   "metadata": {},
   "source": [
    "# Server"
   ]
  },
  {
   "cell_type": "code",
   "execution_count": null,
   "metadata": {},
   "outputs": [],
   "source": [
    "%python server.py"
   ]
  }
 ],
 "metadata": {
  "kernelspec": {
   "display_name": "Python 3",
   "language": "python",
   "name": "python3"
  },
  "language_info": {
   "codemirror_mode": {
    "name": "ipython",
    "version": 3
   },
   "file_extension": ".py",
   "mimetype": "text/x-python",
   "name": "python",
   "nbconvert_exporter": "python",
   "pygments_lexer": "ipython3",
   "version": "3.10.11"
  }
 },
 "nbformat": 4,
 "nbformat_minor": 2
}
