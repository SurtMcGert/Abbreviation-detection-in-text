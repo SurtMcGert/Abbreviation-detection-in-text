{
  "cells": [
    {
      "cell_type": "markdown",
      "source": [
        "### Paula's experimentation"
      ],
      "metadata": {
        "id": "pWfrxOLj60qB"
      }
    },
    {
      "cell_type": "markdown",
      "source": [
        "## CRN vs BERT"
      ],
      "metadata": {
        "id": "SMRzkAci8AZz"
      }
    },
    {
      "cell_type": "code",
      "execution_count": null,
      "metadata": {
        "id": "2JL1uf0V6vpG"
      },
      "outputs": [],
      "source": []
    },
    {
      "cell_type": "markdown",
      "source": [
        "## Hyperparameter optimization"
      ],
      "metadata": {
        "id": "9lepRczQ9N28"
      }
    },
    {
      "cell_type": "code",
      "source": [],
      "metadata": {
        "id": "lWUlYv0m9Nmt"
      },
      "execution_count": null,
      "outputs": []
    },
    {
      "cell_type": "markdown",
      "source": [
        "## Cross entropy vs Focal loss"
      ],
      "metadata": {
        "id": "2O799W1q9Uvt"
      }
    },
    {
      "cell_type": "code",
      "source": [],
      "metadata": {
        "id": "_FiBCmfa9a8u"
      },
      "execution_count": null,
      "outputs": []
    },
    {
      "cell_type": "markdown",
      "source": [
        "## TF-IDF vs Bag of Words"
      ],
      "metadata": {
        "id": "RHghpJkn9bPc"
      }
    },
    {
      "cell_type": "code",
      "source": [],
      "metadata": {
        "id": "U0k1roAb9ie0"
      },
      "execution_count": null,
      "outputs": []
    }
  ],
  "metadata": {
    "language_info": {
      "name": "python"
    },
    "colab": {
      "provenance": []
    }
  },
  "nbformat": 4,
  "nbformat_minor": 0
}